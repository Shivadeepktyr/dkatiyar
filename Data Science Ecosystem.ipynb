{
 "cells": [
  {
   "cell_type": "markdown",
   "id": "e38d0515-c9c9-4627-b8f7-1e201ea8a1ca",
   "metadata": {},
   "source": [
    "# Data Science Tools And Ecosystem\n"
   ]
  },
  {
   "cell_type": "markdown",
   "id": "6101c25c-acb2-4105-bc96-0399a79fc2b8",
   "metadata": {},
   "source": [
    "In this notebook, Data Science Tools and Ecosystem are summarized.\n",
    "A Data Ecosystem isa network of connected data sources, tools, and applications that enable companies to gather, analyze and share data.\n"
   ]
  },
  {
   "cell_type": "markdown",
   "id": "e22de7e6-287f-4dd1-b845-00c5fcb3bf8f",
   "metadata": {},
   "source": [
    "Some of the popular languages that Data Scientists use are:\n",
    "1. Python\n",
    "2. R\n",
    "3. SQL\n",
    "4. Julia\n",
    "5. Java"
   ]
  },
  {
   "cell_type": "markdown",
   "id": "cc43d3df-c7d8-4af0-82bb-179e6be60fb0",
   "metadata": {},
   "source": [
    "Some of the commonly used libraries used by Data Scientists include:\n",
    "1. Pandas\n",
    "2. Matplotlib\n",
    "3. NumPy\n",
    "4. Seaborn\n",
    "5. TensorFlow"
   ]
  },
  {
   "cell_type": "markdown",
   "id": "e117e23d-683a-4c87-af67-d5055be08a46",
   "metadata": {},
   "source": [
    "|Data Science Tools|\n",
    "|---|\n",
    "|SAS|\n",
    "|Apache Hadoop|\n",
    "|TensorFlow|\n"
   ]
  },
  {
   "cell_type": "markdown",
   "id": "1661730e-419a-4453-9866-d5b1da1e959d",
   "metadata": {},
   "source": [
    "### Below are few examples of evaluating arithematic expressions in Python:\n"
   ]
  },
  {
   "cell_type": "code",
   "execution_count": 16,
   "id": "bc05fa64-0830-4c98-b42c-4441dab20ac9",
   "metadata": {},
   "outputs": [
    {
     "data": {
      "text/plain": [
       "17"
      ]
     },
     "execution_count": 16,
     "metadata": {},
     "output_type": "execute_result"
    }
   ],
   "source": [
    "#this is a common arithematic example to multiply and then add integers\n",
    "(3*4)+5"
   ]
  },
  {
   "cell_type": "code",
   "execution_count": 8,
   "id": "a09fd2a1-81e1-4fb4-bf5b-942ce458d0d3",
   "metadata": {},
   "outputs": [
    {
     "data": {
      "text/plain": [
       "3.3333333333333335"
      ]
     },
     "execution_count": 8,
     "metadata": {},
     "output_type": "execute_result"
    }
   ],
   "source": [
    "# This will convert 200 minutes to hours by diving by 60\n",
    "200/60"
   ]
  },
  {
   "cell_type": "markdown",
   "id": "a12280ee-c131-41b0-b233-2adce837b2a9",
   "metadata": {},
   "source": [
    "__objective__\n",
    "* List popular languages for Data Science\n",
    "* List popular libraries for Data Science\n",
    "* List of well known Data Science Tools\n",
    "* How to Provide comments in the cell"
   ]
  },
  {
   "cell_type": "markdown",
   "id": "4322a5a4-87b8-4eea-9271-4c1cca9f19fc",
   "metadata": {},
   "source": [
    "## Author\n",
    "Deeshikha Katiyar"
   ]
  },
  {
   "cell_type": "code",
   "execution_count": null,
   "id": "c5a8fc02-e9b5-48ac-98e1-2adc8de39596",
   "metadata": {},
   "outputs": [],
   "source": []
  }
 ],
 "metadata": {
  "kernelspec": {
   "display_name": "Python [conda env:base] *",
   "language": "python",
   "name": "conda-base-py"
  },
  "language_info": {
   "codemirror_mode": {
    "name": "ipython",
    "version": 3
   },
   "file_extension": ".py",
   "mimetype": "text/x-python",
   "name": "python",
   "nbconvert_exporter": "python",
   "pygments_lexer": "ipython3",
   "version": "3.12.7"
  }
 },
 "nbformat": 4,
 "nbformat_minor": 5
}
